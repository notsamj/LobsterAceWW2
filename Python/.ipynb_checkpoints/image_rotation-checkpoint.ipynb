{
 "cells": [
  {
   "cell_type": "code",
   "execution_count": 3,
   "id": "b9499562",
   "metadata": {
    "scrolled": true
   },
   "outputs": [
    {
     "name": "stdout",
     "output_type": "stream",
     "text": [
      "Finished @ 0\n",
      "Finished @ 1\n",
      "Finished @ 2\n",
      "Finished @ 3\n",
      "Finished @ 4\n",
      "Finished @ 5\n",
      "Finished @ 6\n",
      "Finished @ 7\n",
      "Finished @ 8\n",
      "Finished @ 9\n",
      "Finished @ 10\n",
      "Finished @ 11\n",
      "Finished @ 12\n",
      "Finished @ 13\n"
     ]
    },
    {
     "ename": "KeyboardInterrupt",
     "evalue": "",
     "output_type": "error",
     "traceback": [
      "\u001b[1;31m---------------------------------------------------------------------------\u001b[0m",
      "\u001b[1;31mKeyboardInterrupt\u001b[0m                         Traceback (most recent call last)",
      "Cell \u001b[1;32mIn[3], line 26\u001b[0m\n\u001b[0;32m     22\u001b[0m imgLM \u001b[38;5;241m=\u001b[39m imgL\n\u001b[0;32m     23\u001b[0m \u001b[38;5;66;03m#imgLM = np.ones((3000,3000,4))\u001b[39;00m\n\u001b[0;32m     24\u001b[0m \u001b[38;5;66;03m#imgLM[:,:,3] = 0\u001b[39;00m\n\u001b[0;32m     25\u001b[0m \u001b[38;5;66;03m#imgLM[500:2500,500:2500,:] = imgL\u001b[39;00m\n\u001b[1;32m---> 26\u001b[0m imgLM \u001b[38;5;241m=\u001b[39m \u001b[43mndimage\u001b[49m\u001b[38;5;241;43m.\u001b[39;49m\u001b[43mrotate\u001b[49m\u001b[43m(\u001b[49m\u001b[43mimgLM\u001b[49m\u001b[43m,\u001b[49m\u001b[43m \u001b[49m\u001b[43mi\u001b[49m\u001b[43m,\u001b[49m\u001b[43m \u001b[49m\u001b[43mmode\u001b[49m\u001b[38;5;241;43m=\u001b[39;49m\u001b[43mmode\u001b[49m\u001b[43m,\u001b[49m\u001b[43m \u001b[49m\u001b[43mreshape\u001b[49m\u001b[38;5;241;43m=\u001b[39;49m\u001b[38;5;28;43;01mFalse\u001b[39;49;00m\u001b[43m)\u001b[49m\n\u001b[0;32m     27\u001b[0m imgLM \u001b[38;5;241m=\u001b[39m cv2\u001b[38;5;241m.\u001b[39mresize(imgLM, endSize, interpolation \u001b[38;5;241m=\u001b[39m cv2\u001b[38;5;241m.\u001b[39mINTER_LINEAR)\n\u001b[0;32m     28\u001b[0m cv2\u001b[38;5;241m.\u001b[39mimwrite(\u001b[38;5;124m\"\u001b[39m\u001b[38;5;124m../images/\u001b[39m\u001b[38;5;124m\"\u001b[39m \u001b[38;5;241m+\u001b[39m plane \u001b[38;5;241m+\u001b[39m \u001b[38;5;124m\"\u001b[39m\u001b[38;5;124m/left/\u001b[39m\u001b[38;5;124m\"\u001b[39m \u001b[38;5;241m+\u001b[39m \u001b[38;5;28mstr\u001b[39m(i) \u001b[38;5;241m+\u001b[39m\u001b[38;5;124m\"\u001b[39m\u001b[38;5;124m.png\u001b[39m\u001b[38;5;124m\"\u001b[39m, imgLM)\n",
      "File \u001b[1;32m~\\AppData\\Local\\Packages\\PythonSoftwareFoundation.Python.3.8_qbz5n2kfra8p0\\LocalCache\\local-packages\\Python38\\site-packages\\scipy\\ndimage\\interpolation.py:952\u001b[0m, in \u001b[0;36mrotate\u001b[1;34m(input, angle, axes, reshape, output, order, mode, cval, prefilter)\u001b[0m\n\u001b[0;32m    950\u001b[0m         ia \u001b[38;5;241m=\u001b[39m input_arr[coordinates]\n\u001b[0;32m    951\u001b[0m         oa \u001b[38;5;241m=\u001b[39m output[coordinates]\n\u001b[1;32m--> 952\u001b[0m         \u001b[43maffine_transform\u001b[49m\u001b[43m(\u001b[49m\u001b[43mia\u001b[49m\u001b[43m,\u001b[49m\u001b[43m \u001b[49m\u001b[43mrot_matrix\u001b[49m\u001b[43m,\u001b[49m\u001b[43m \u001b[49m\u001b[43moffset\u001b[49m\u001b[43m,\u001b[49m\u001b[43m \u001b[49m\u001b[43mout_plane_shape\u001b[49m\u001b[43m,\u001b[49m\n\u001b[0;32m    953\u001b[0m \u001b[43m                         \u001b[49m\u001b[43moa\u001b[49m\u001b[43m,\u001b[49m\u001b[43m \u001b[49m\u001b[43morder\u001b[49m\u001b[43m,\u001b[49m\u001b[43m \u001b[49m\u001b[43mmode\u001b[49m\u001b[43m,\u001b[49m\u001b[43m \u001b[49m\u001b[43mcval\u001b[49m\u001b[43m,\u001b[49m\u001b[43m \u001b[49m\u001b[43mprefilter\u001b[49m\u001b[43m)\u001b[49m\n\u001b[0;32m    955\u001b[0m \u001b[38;5;28;01mreturn\u001b[39;00m output\n",
      "File \u001b[1;32m~\\AppData\\Local\\Packages\\PythonSoftwareFoundation.Python.3.8_qbz5n2kfra8p0\\LocalCache\\local-packages\\Python38\\site-packages\\scipy\\ndimage\\interpolation.py:608\u001b[0m, in \u001b[0;36maffine_transform\u001b[1;34m(input, matrix, offset, output_shape, output, order, mode, cval, prefilter)\u001b[0m\n\u001b[0;32m    605\u001b[0m     _nd_image\u001b[38;5;241m.\u001b[39mzoom_shift(filtered, matrix, offset\u001b[38;5;241m/\u001b[39mmatrix, output, order,\n\u001b[0;32m    606\u001b[0m                          mode, cval, npad, \u001b[38;5;28;01mFalse\u001b[39;00m)\n\u001b[0;32m    607\u001b[0m \u001b[38;5;28;01melse\u001b[39;00m:\n\u001b[1;32m--> 608\u001b[0m     \u001b[43m_nd_image\u001b[49m\u001b[38;5;241;43m.\u001b[39;49m\u001b[43mgeometric_transform\u001b[49m\u001b[43m(\u001b[49m\u001b[43mfiltered\u001b[49m\u001b[43m,\u001b[49m\u001b[43m \u001b[49m\u001b[38;5;28;43;01mNone\u001b[39;49;00m\u001b[43m,\u001b[49m\u001b[43m \u001b[49m\u001b[38;5;28;43;01mNone\u001b[39;49;00m\u001b[43m,\u001b[49m\u001b[43m \u001b[49m\u001b[43mmatrix\u001b[49m\u001b[43m,\u001b[49m\u001b[43m \u001b[49m\u001b[43moffset\u001b[49m\u001b[43m,\u001b[49m\n\u001b[0;32m    609\u001b[0m \u001b[43m                                  \u001b[49m\u001b[43moutput\u001b[49m\u001b[43m,\u001b[49m\u001b[43m \u001b[49m\u001b[43morder\u001b[49m\u001b[43m,\u001b[49m\u001b[43m \u001b[49m\u001b[43mmode\u001b[49m\u001b[43m,\u001b[49m\u001b[43m \u001b[49m\u001b[43mcval\u001b[49m\u001b[43m,\u001b[49m\u001b[43m \u001b[49m\u001b[43mnpad\u001b[49m\u001b[43m,\u001b[49m\u001b[43m \u001b[49m\u001b[38;5;28;43;01mNone\u001b[39;49;00m\u001b[43m,\u001b[49m\n\u001b[0;32m    610\u001b[0m \u001b[43m                                  \u001b[49m\u001b[38;5;28;43;01mNone\u001b[39;49;00m\u001b[43m)\u001b[49m\n\u001b[0;32m    611\u001b[0m \u001b[38;5;28;01mreturn\u001b[39;00m output\n",
      "\u001b[1;31mKeyboardInterrupt\u001b[0m: "
     ]
    }
   ],
   "source": [
    "import cv2\n",
    "import numpy as np\n",
    "from scipy import ndimage\n",
    "import matplotlib.pyplot as plt\n",
    "plane = \"a6m_zero\"\n",
    "endSize = (150, 150)\n",
    "imgL = cv2.imread(\"../images/\" + plane + \"_full_\" + \"left.png\", cv2.IMREAD_UNCHANGED)\n",
    "imgR = cv2.imread(\"../images/\" + plane + \"_full_\" + \"right.png\", cv2.IMREAD_UNCHANGED)\n",
    "start = 0\n",
    "numDegrees = 360\n",
    "# mode = \"nearest\"\n",
    "mode = \"constant\"\n",
    "for i in range(start, numDegrees):\n",
    "    imgRM = np.ones((3000,3000,4))\n",
    "    imgRM[:,:,3] = 0\n",
    "    imgRM[500:2500,500:2500,:] = imgR\n",
    "    imgRM = ndimage.rotate(imgRM, i, mode=mode, reshape=False)\n",
    "    imgRM = cv2.resize(imgRM, endSize, interpolation = cv2.INTER_LINEAR)\n",
    "    cv2.imwrite(\"../images/\" + plane + \"/right/\" + str(i) +\".png\", imgRM) \n",
    "    \n",
    "    imgLM = np.ones((3000,3000,4))\n",
    "    imgLM[:,:,3] = 0\n",
    "    imgLM[500:2500,500:2500,:] = imgL\n",
    "    imgLM = ndimage.rotate(imgLM, i, mode=mode, reshape=False)\n",
    "    imgLM = cv2.resize(imgLM, endSize, interpolation = cv2.INTER_LINEAR)\n",
    "    cv2.imwrite(\"../images/\" + plane + \"/left/\" + str(i) +\".png\", imgLM)\n",
    "    print(\"Finished @\", i)\n",
    "print(\"Done\")"
   ]
  },
  {
   "cell_type": "code",
   "execution_count": null,
   "id": "c62c32f0",
   "metadata": {},
   "outputs": [],
   "source": []
  }
 ],
 "metadata": {
  "kernelspec": {
   "display_name": "Python 3 (ipykernel)",
   "language": "python",
   "name": "python3"
  },
  "language_info": {
   "codemirror_mode": {
    "name": "ipython",
    "version": 3
   },
   "file_extension": ".py",
   "mimetype": "text/x-python",
   "name": "python",
   "nbconvert_exporter": "python",
   "pygments_lexer": "ipython3",
   "version": "3.8.10"
  }
 },
 "nbformat": 4,
 "nbformat_minor": 5
}
