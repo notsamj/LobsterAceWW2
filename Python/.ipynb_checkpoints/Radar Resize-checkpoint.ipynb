{
 "cells": [
  {
   "cell_type": "code",
   "execution_count": null,
   "id": "a7fead47",
   "metadata": {},
   "outputs": [],
   "source": [
    "import cv2\n",
    "import numpy as np\n",
    "from scipy import ndimage\n",
    "import matplotlib.pyplot as plt\n",
    "radarSize = 6\n",
    "radarPixelSize = 60\n",
    "endSize = (radarSize * radarPixelSize, radarPixelSize)\n",
    "for x in range(radarSize):\n",
    "    for y in range(radarSize):\n",
    "        img = np.ones()\n",
    "        img = cv2.resize(img, endSize, interpolation = cv2.INTER_LINEAR)\n",
    "        cv2.imwrite(\"../images/radar/\" + str(i) +\".png\", imgRM) \n",
    "print(\"Done\")"
   ]
  }
 ],
 "metadata": {
  "kernelspec": {
   "display_name": "Python 3 (ipykernel)",
   "language": "python",
   "name": "python3"
  },
  "language_info": {
   "codemirror_mode": {
    "name": "ipython",
    "version": 3
   },
   "file_extension": ".py",
   "mimetype": "text/x-python",
   "name": "python",
   "nbconvert_exporter": "python",
   "pygments_lexer": "ipython3",
   "version": "3.8.10"
  }
 },
 "nbformat": 4,
 "nbformat_minor": 5
}
