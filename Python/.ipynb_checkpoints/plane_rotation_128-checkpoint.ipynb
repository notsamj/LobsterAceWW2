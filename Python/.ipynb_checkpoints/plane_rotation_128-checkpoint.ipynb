{
 "cells": [
  {
   "cell_type": "code",
   "execution_count": 4,
   "id": "d87737e4",
   "metadata": {},
   "outputs": [
    {
     "name": "stdout",
     "output_type": "stream",
     "text": [
      "Done\n"
     ]
    }
   ],
   "source": [
    "import cv2\n",
    "import numpy as np\n",
    "from scipy import ndimage\n",
    "import matplotlib.pyplot as plt\n",
    "plane = \"me_309\"\n",
    "endSize = (128, 128)\n",
    "imgL = cv2.imread(\"../images/\" + plane + \"_full_\" + \"left.png\", cv2.IMREAD_UNCHANGED)\n",
    "imgR = cv2.imread(\"../images/\" + plane + \"_full_\" + \"right.png\", cv2.IMREAD_UNCHANGED)\n",
    "start = 0\n",
    "numDegrees = 360\n",
    "# mode = \"nearest\"\n",
    "mode = \"constant\"\n",
    "for i in range(start, numDegrees):\n",
    "    imgRM = cv2.resize(imgR, endSize, interpolation = cv2.INTER_LINEAR)\n",
    "    imgRM = ndimage.rotate(imgRM, i, mode=mode, reshape=False)\n",
    "    cv2.imwrite(\"../images/\" + plane + \"/128/right/\" + str(i) +\".png\", imgRM) \n",
    "    \n",
    "    imgLM = cv2.resize(imgL, endSize, interpolation = cv2.INTER_LINEAR)\n",
    "    imgLM = ndimage.rotate(imgLM, i, mode=mode, reshape=False)\n",
    "    cv2.imwrite(\"../images/\" + plane + \"/128/left/\" + str(i) +\".png\", imgLM)\n",
    "    # print(\"Finished @\", i)\n",
    "print(\"Done\")"
   ]
  },
  {
   "cell_type": "code",
   "execution_count": null,
   "id": "f54b6cb3",
   "metadata": {},
   "outputs": [],
   "source": []
  }
 ],
 "metadata": {
  "kernelspec": {
   "display_name": "Python 3 (ipykernel)",
   "language": "python",
   "name": "python3"
  },
  "language_info": {
   "codemirror_mode": {
    "name": "ipython",
    "version": 3
   },
   "file_extension": ".py",
   "mimetype": "text/x-python",
   "name": "python",
   "nbconvert_exporter": "python",
   "pygments_lexer": "ipython3",
   "version": "3.8.10"
  }
 },
 "nbformat": 4,
 "nbformat_minor": 5
}
