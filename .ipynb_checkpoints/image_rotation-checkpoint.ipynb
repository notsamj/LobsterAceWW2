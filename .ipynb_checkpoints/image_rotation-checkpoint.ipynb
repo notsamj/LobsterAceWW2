{
 "cells": [
  {
   "cell_type": "code",
   "execution_count": 1,
   "id": "b9499562",
   "metadata": {
    "scrolled": true
   },
   "outputs": [
    {
     "name": "stdout",
     "output_type": "stream",
     "text": [
      "Done\n"
     ]
    }
   ],
   "source": [
    "import cv2\n",
    "from scipy import ndimage\n",
    "import matplotlib.pyplot as plt\n",
    "imgL = cv2.imread(\"deagle_left.png\", cv2.IMREAD_UNCHANGED)\n",
    "for i in range(360):\n",
    "    imgRM = ndimage.rotate(imgR,i)\n",
    "    imgRM = cv2.resize(imgRM, (32, 24), interpolation = cv2.INTER_LINEAR)\n",
    "    cv2.imwrite(\"2deagle/deagle_rotated_right_\" + str(i) +\".png\", imgRM) \n",
    "    \n",
    "    imgLM = ndimage.rotate(imgL,i)\n",
    "    imgLM = cv2.resize(imgLM, (32, 24), interpolation = cv2.INTER_LINEAR)\n",
    "    cv2.imwrite(\"2deagle/deagle_rotated_left_\" + str(360 - i - 1) +\".png\", imgLM)\n",
    "print(\"Done\")"
   ]
  },
  {
   "cell_type": "code",
   "execution_count": null,
   "id": "c62c32f0",
   "metadata": {},
   "outputs": [],
   "source": []
  }
 ],
 "metadata": {
  "kernelspec": {
   "display_name": "Python 3 (ipykernel)",
   "language": "python",
   "name": "python3"
  },
  "language_info": {
   "codemirror_mode": {
    "name": "ipython",
    "version": 3
   },
   "file_extension": ".py",
   "mimetype": "text/x-python",
   "name": "python",
   "nbconvert_exporter": "python",
   "pygments_lexer": "ipython3",
   "version": "3.8.10"
  }
 },
 "nbformat": 4,
 "nbformat_minor": 5
}
